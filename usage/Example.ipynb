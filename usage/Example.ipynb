{
 "cells": [
  {
   "cell_type": "code",
   "execution_count": 1,
   "id": "cd4c1bba",
   "metadata": {},
   "outputs": [],
   "source": [
    "import models\n",
    "import logging\n",
    "logging.basicConfig()\n",
    "logging.getLogger().setLevel(logging.INFO)\n",
    "\n",
    "NUM_CLASSES = 10"
   ]
  },
  {
   "cell_type": "markdown",
   "id": "81f5274c",
   "metadata": {},
   "source": [
    "# Loading RadiologyNET Weights"
   ]
  },
  {
   "cell_type": "code",
   "execution_count": null,
   "id": "687a5aad",
   "metadata": {
    "scrolled": true
   },
   "outputs": [],
   "source": [
    "# MobileNetV3Large\n",
    "RADIOLOGYNET_WEIGHTS = 'TL_Weights/MobileNetV3Large.pth'\n",
    "model = models.MobileNetV3Large(pretrained=False, number_of_classes=NUM_CLASSES)\n",
    "models.transfer_weights_to_model(path=RADIOLOGYNET_WEIGHTS, target_model=model, device='cpu')"
   ]
  },
  {
   "cell_type": "code",
   "execution_count": null,
   "id": "74222796",
   "metadata": {},
   "outputs": [],
   "source": [
    "# MobileNetV3Small\n",
    "RADIOLOGYNET_WEIGHTS = 'TL_Weights/MobileNetV3Small.pth'\n",
    "model = models.MobileNetV3Small(pretrained=False, number_of_classes=NUM_CLASSES)\n",
    "models.transfer_weights_to_model(path=RADIOLOGYNET_WEIGHTS, target_model=model, device='cpu')"
   ]
  },
  {
   "cell_type": "code",
   "execution_count": null,
   "id": "9a460ab7",
   "metadata": {
    "scrolled": true
   },
   "outputs": [],
   "source": [
    "# DenseNet121\n",
    "RADIOLOGYNET_WEIGHTS = 'TL_Weights/DenseNet121.pth'\n",
    "model = models.DenseNet121(pretrained=False, number_of_classes=NUM_CLASSES)\n",
    "models.transfer_weights_to_model(path=RADIOLOGYNET_WEIGHTS, target_model=model, device='cpu')"
   ]
  },
  {
   "cell_type": "code",
   "execution_count": null,
   "id": "ebb52478",
   "metadata": {
    "scrolled": true
   },
   "outputs": [],
   "source": [
    "# EfficientNetB3\n",
    "RADIOLOGYNET_WEIGHTS = 'TL_Weights/EfficientNetB3.pth'\n",
    "model = models.EfficientNetB3(pretrained=False, number_of_classes=NUM_CLASSES)\n",
    "models.transfer_weights_to_model(path=RADIOLOGYNET_WEIGHTS, target_model=model, device='cpu')"
   ]
  },
  {
   "cell_type": "code",
   "execution_count": null,
   "id": "a0f401fc",
   "metadata": {
    "scrolled": true
   },
   "outputs": [],
   "source": [
    "# EfficientNetB4\n",
    "RADIOLOGYNET_WEIGHTS = 'TL_Weights/EfficientNetB4.pth'\n",
    "model = models.EfficientNetB4(pretrained=False, number_of_classes=NUM_CLASSES)\n",
    "models.transfer_weights_to_model(path=RADIOLOGYNET_WEIGHTS, target_model=model, device='cpu')"
   ]
  },
  {
   "cell_type": "code",
   "execution_count": null,
   "id": "611bfb9e",
   "metadata": {
    "scrolled": true
   },
   "outputs": [],
   "source": [
    "# InceptionV3\n",
    "RADIOLOGYNET_WEIGHTS = 'TL_Weights/InceptionV3.pth'\n",
    "model = models.InceptionV3(pretrained=False, number_of_classes=NUM_CLASSES)\n",
    "models.transfer_weights_to_model(path=RADIOLOGYNET_WEIGHTS, target_model=model, device='cpu')"
   ]
  },
  {
   "cell_type": "code",
   "execution_count": null,
   "id": "73fea4c3",
   "metadata": {
    "scrolled": false
   },
   "outputs": [],
   "source": [
    "# ResNet18\n",
    "RADIOLOGYNET_WEIGHTS = 'TL_Weights/ResNet18.pth'\n",
    "model = models.ResNet18(pretrained=False, number_of_classes=NUM_CLASSES)\n",
    "models.transfer_weights_to_model(path=RADIOLOGYNET_WEIGHTS, target_model=model, device='cpu')"
   ]
  },
  {
   "cell_type": "code",
   "execution_count": null,
   "id": "b6fca49f",
   "metadata": {
    "scrolled": true
   },
   "outputs": [],
   "source": [
    "# ResNet34\n",
    "RADIOLOGYNET_WEIGHTS = 'TL_Weights/ResNet34.pth'\n",
    "model = models.ResNet34(pretrained=False, number_of_classes=NUM_CLASSES)\n",
    "models.transfer_weights_to_model(path=RADIOLOGYNET_WEIGHTS, target_model=model, device='cpu')"
   ]
  },
  {
   "cell_type": "code",
   "execution_count": null,
   "id": "078a0a64",
   "metadata": {
    "scrolled": false
   },
   "outputs": [],
   "source": [
    "# ResNet50\n",
    "RADIOLOGYNET_WEIGHTS = 'TL_Weights/ResNet18.pth'\n",
    "model = models.ResNet50(pretrained=False, number_of_classes=NUM_CLASSES)\n",
    "models.transfer_weights_to_model(path=RADIOLOGYNET_WEIGHTS, target_model=model, device='cpu')"
   ]
  },
  {
   "cell_type": "code",
   "execution_count": 2,
   "id": "f9f24e85",
   "metadata": {
    "scrolled": false
   },
   "outputs": [
    {
     "name": "stderr",
     "output_type": "stream",
     "text": [
      "DEBUG:models:TRANSFER at layer: features.0.weight/torch.Size([64, 3, 3, 3])\n",
      "DEBUG:models:TRANSFER at layer: features.0.bias/torch.Size([64])\n",
      "DEBUG:models:TRANSFER at layer: features.2.weight/torch.Size([64, 64, 3, 3])\n",
      "DEBUG:models:TRANSFER at layer: features.2.bias/torch.Size([64])\n",
      "DEBUG:models:TRANSFER at layer: features.5.weight/torch.Size([128, 64, 3, 3])\n",
      "DEBUG:models:TRANSFER at layer: features.5.bias/torch.Size([128])\n",
      "DEBUG:models:TRANSFER at layer: features.7.weight/torch.Size([128, 128, 3, 3])\n",
      "DEBUG:models:TRANSFER at layer: features.7.bias/torch.Size([128])\n",
      "DEBUG:models:TRANSFER at layer: features.10.weight/torch.Size([256, 128, 3, 3])\n",
      "DEBUG:models:TRANSFER at layer: features.10.bias/torch.Size([256])\n",
      "DEBUG:models:TRANSFER at layer: features.12.weight/torch.Size([256, 256, 3, 3])\n",
      "DEBUG:models:TRANSFER at layer: features.12.bias/torch.Size([256])\n",
      "DEBUG:models:TRANSFER at layer: features.14.weight/torch.Size([256, 256, 3, 3])\n",
      "DEBUG:models:TRANSFER at layer: features.14.bias/torch.Size([256])\n",
      "DEBUG:models:TRANSFER at layer: features.17.weight/torch.Size([512, 256, 3, 3])\n",
      "DEBUG:models:TRANSFER at layer: features.17.bias/torch.Size([512])\n",
      "DEBUG:models:TRANSFER at layer: features.19.weight/torch.Size([512, 512, 3, 3])\n",
      "DEBUG:models:TRANSFER at layer: features.19.bias/torch.Size([512])\n",
      "DEBUG:models:TRANSFER at layer: features.21.weight/torch.Size([512, 512, 3, 3])\n",
      "DEBUG:models:TRANSFER at layer: features.21.bias/torch.Size([512])\n",
      "DEBUG:models:TRANSFER at layer: features.24.weight/torch.Size([512, 512, 3, 3])\n",
      "DEBUG:models:TRANSFER at layer: features.24.bias/torch.Size([512])\n",
      "DEBUG:models:TRANSFER at layer: features.26.weight/torch.Size([512, 512, 3, 3])\n",
      "DEBUG:models:TRANSFER at layer: features.26.bias/torch.Size([512])\n",
      "DEBUG:models:TRANSFER at layer: features.28.weight/torch.Size([512, 512, 3, 3])\n",
      "DEBUG:models:TRANSFER at layer: features.28.bias/torch.Size([512])\n",
      "DEBUG:models:TRANSFER at layer: classifier.0.weight/torch.Size([4096, 25088])\n",
      "DEBUG:models:TRANSFER at layer: classifier.0.bias/torch.Size([4096])\n",
      "DEBUG:models:TRANSFER at layer: classifier.3.weight/torch.Size([4096, 4096])\n",
      "DEBUG:models:TRANSFER at layer: classifier.3.bias/torch.Size([4096])\n",
      "DEBUG:models:UNABLE TO TRANSFER at layer: classifier.6.weight/torch.Size([36, 4096])\n",
      "DEBUG:models:TRYING with expanded name: model.classifier.6.weight\n",
      "DEBUG:models:TRYING with swapped name: classifier.6.weight\n",
      "DEBUG:models:UNABLE TO TRANSFER at layer: classifier.6.weight/torch.Size([36, 4096])\n",
      "DEBUG:models:UNABLE TO TRANSFER at layer: classifier.6.bias/torch.Size([36])\n",
      "DEBUG:models:TRYING with expanded name: model.classifier.6.bias\n",
      "DEBUG:models:TRYING with swapped name: classifier.6.bias\n",
      "DEBUG:models:UNABLE TO TRANSFER at layer: classifier.6.bias/torch.Size([36])\n"
     ]
    }
   ],
   "source": [
    "# VGG16\n",
    "\n",
    "logging.getLogger().setLevel(logging.DEBUG)  # currently set to DEBUG to show the output\n",
    "\n",
    "RADIOLOGYNET_WEIGHTS = 'TL_Weights/VGG16.pth'\n",
    "model = models.VGG16(pretrained=False, number_of_classes=NUM_CLASSES)\n",
    "models.transfer_weights_to_model(path=RADIOLOGYNET_WEIGHTS, target_model=model, device='cpu')\n",
    "\n",
    "logging.getLogger().setLevel(logging.INFO)"
   ]
  }
 ],
 "metadata": {
  "kernelspec": {
   "display_name": "Python 3 (ipykernel)",
   "language": "python",
   "name": "python3"
  },
  "language_info": {
   "codemirror_mode": {
    "name": "ipython",
    "version": 3
   },
   "file_extension": ".py",
   "mimetype": "text/x-python",
   "name": "python",
   "nbconvert_exporter": "python",
   "pygments_lexer": "ipython3",
   "version": "3.8.10"
  }
 },
 "nbformat": 4,
 "nbformat_minor": 5
}
