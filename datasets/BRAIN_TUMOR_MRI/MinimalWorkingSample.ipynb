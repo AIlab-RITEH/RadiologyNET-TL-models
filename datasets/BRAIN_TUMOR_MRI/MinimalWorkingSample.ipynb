{
 "cells": [
  {
   "cell_type": "code",
   "execution_count": null,
   "id": "19784da1",
   "metadata": {},
   "outputs": [],
   "source": [
    "%load_ext autoreload\n",
    "%autoreload 2"
   ]
  },
  {
   "cell_type": "code",
   "execution_count": null,
   "id": "16ebdb1c",
   "metadata": {
    "scrolled": true
   },
   "outputs": [],
   "source": [
    "!python3 TrainRadiologyNet.py"
   ]
  },
  {
   "cell_type": "code",
   "execution_count": null,
   "id": "6206555c",
   "metadata": {
    "scrolled": true
   },
   "outputs": [],
   "source": [
    "!python3 TrainImageNet.py"
   ]
  },
  {
   "cell_type": "code",
   "execution_count": null,
   "id": "021ffc74",
   "metadata": {
    "scrolled": false
   },
   "outputs": [],
   "source": [
    "!python3 TrainFromScratch.py"
   ]
  },
  {
   "cell_type": "code",
   "execution_count": null,
   "id": "3ef3afaa",
   "metadata": {
    "scrolled": false
   },
   "outputs": [],
   "source": [
    "!python3 EvaluateBrain.py"
   ]
  }
 ],
 "metadata": {
  "kernelspec": {
   "display_name": "Python 3 (ipykernel)",
   "language": "python",
   "name": "python3"
  },
  "language_info": {
   "codemirror_mode": {
    "name": "ipython",
    "version": 3
   },
   "file_extension": ".py",
   "mimetype": "text/x-python",
   "name": "python",
   "nbconvert_exporter": "python",
   "pygments_lexer": "ipython3",
   "version": "3.8.10"
  }
 },
 "nbformat": 4,
 "nbformat_minor": 5
}
